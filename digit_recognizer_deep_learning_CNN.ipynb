{
  "nbformat": 4,
  "nbformat_minor": 0,
  "metadata": {
    "colab": {
      "name": "digit-recognizer--deep-learning--CNN.ipynb",
      "provenance": [],
      "collapsed_sections": []
    },
    "kernelspec": {
      "name": "python3",
      "display_name": "Python 3"
    }
  },
  "cells": [
    {
      "cell_type": "code",
      "metadata": {
        "id": "JvyFADxUJmX_",
        "colab_type": "code",
        "colab": {}
      },
      "source": [
        "import pandas as pd\n",
        "from keras.datasets import mnist\n",
        "import matplotlib.pyplot as plt\n",
        "plt.style.use('fivethirtyeight')\n",
        "import warnings as war\n",
        "war.filterwarnings('ignore')"
      ],
      "execution_count": 28,
      "outputs": []
    },
    {
      "cell_type": "code",
      "metadata": {
        "id": "oAbRnKpduYyi",
        "colab_type": "code",
        "colab": {}
      },
      "source": [
        "'''\n",
        "\n",
        "project name : handwritten digit classification --deep learning\n",
        "author : @kanishksh4rma\n",
        "\n",
        "'''"
      ],
      "execution_count": null,
      "outputs": []
    },
    {
      "cell_type": "code",
      "metadata": {
        "id": "4P_1o_qLKhX7",
        "colab_type": "code",
        "colab": {
          "base_uri": "https://localhost:8080/",
          "height": 94
        },
        "outputId": "b174faad-ba69-4843-d7ed-6dc9b30d0824"
      },
      "source": [
        "#load the data\n",
        "\n",
        "(X_train,y_train),(X_test,y_test) = mnist.load_data()\n",
        "\n",
        "#print the shape\n",
        "print(X_train.shape)\n",
        "print(X_test.shape)\n",
        "print(y_train.shape)\n",
        "print(y_test.shape)"
      ],
      "execution_count": 4,
      "outputs": [
        {
          "output_type": "stream",
          "text": [
            "(60000, 28, 28)\n",
            "(10000, 28, 28)\n",
            "(60000,)\n",
            "(10000,)\n"
          ],
          "name": "stdout"
        }
      ]
    },
    {
      "cell_type": "code",
      "metadata": {
        "id": "NhC4uealJcZN",
        "colab_type": "code",
        "colab": {
          "base_uri": "https://localhost:8080/",
          "height": 264
        },
        "outputId": "a1675e8b-c2ff-4b9f-95e4-d9a1dd76e301"
      },
      "source": [
        "#lets print the data\n",
        "\n",
        "fig,ax = plt.subplots(5,5)\n",
        "for i,axs in enumerate(ax.flat):\n",
        "  axs.imshow(X_train[i],cmap='binary',interpolation = 'nearest')\n",
        "  axs.set_xticks([])\n",
        "  axs.set_yticks([])\n",
        "  axs.axis('off')"
      ],
      "execution_count": 6,
      "outputs": [
        {
          "output_type": "display_data",
          "data": {
            "image/png": "[encoded data removed]",
            "text/plain": [
              "<Figure size 432x288 with 25 Axes>"
            ]
          },
          "metadata": {
            "tags": []
          }
        }
      ]
    },
    {
      "cell_type": "markdown",
      "metadata": {
        "id": "FtR1Dh8iLrC5",
        "colab_type": "text"
      },
      "source": [
        "# Deep learning"
      ]
    },
    {
      "cell_type": "code",
      "metadata": {
        "id": "xJaNHS2WLtkd",
        "colab_type": "code",
        "colab": {}
      },
      "source": [
        "#import deep learning stuff\n",
        "\n",
        "from keras.models import Sequential\n",
        "from keras.layers import Dense, Activation, BatchNormalization,Dropout,Conv2D,MaxPooling2D,Flatten\n",
        "from keras.utils.np_utils import to_categorical"
      ],
      "execution_count": 5,
      "outputs": []
    },
    {
      "cell_type": "code",
      "metadata": {
        "id": "IUthv-isOdYM",
        "colab_type": "code",
        "colab": {}
      },
      "source": [
        "# reshape dataset to have a single channel\n",
        "X_train = X_train.reshape((X_train.shape[0], 28,28,1))\n",
        "X_test = X_test.reshape((X_test.shape[0], 28, 28,1))\n",
        "\n",
        "X_train = X_train.astype('float32')\n",
        "X_test = X_test.astype('float32')\n",
        "X_train /= 255\n",
        "X_test /= 255\n",
        "\n",
        "#one hot encoder for y\n",
        "y_train = to_categorical(y_train)\n",
        "y_test = to_categorical(y_test)"
      ],
      "execution_count": 6,
      "outputs": []
    },
    {
      "cell_type": "code",
      "metadata": {
        "id": "rI4JewvWW7Y-",
        "colab_type": "code",
        "colab": {}
      },
      "source": [
        "#create model\n",
        "\n",
        "model = Sequential()\n",
        "input_shape=(28,28,1)\n",
        "model.add(Conv2D(32, kernel_size=(3, 3), activation='relu',\n",
        "                              input_shape=input_shape))\n",
        "\n",
        "model.add(Conv2D(64, (3, 3), activation='relu'))\n",
        "model.add(MaxPooling2D(pool_size=(2, 2)))\n",
        "model.add(Dropout(0.25))\n",
        "model.add(Flatten())\n",
        "model.add(Dense(128, activation='relu',kernel_initializer='he_normal'))\n",
        "model.add(Dropout(0.5))\n",
        "model.add(Dense(10, activation='softmax'))\n",
        "\n",
        "model.compile(optimizer='adam',loss='categorical_crossentropy',metrics=['accuracy'])"
      ],
      "execution_count": 13,
      "outputs": []
    },
    {
      "cell_type": "code",
      "metadata": {
        "id": "_hCTB9R8OSOH",
        "colab_type": "code",
        "colab": {
          "base_uri": "https://localhost:8080/",
          "height": 151
        },
        "outputId": "743dd2a3-e292-43c0-c73f-715537470cf7"
      },
      "source": [
        "#fit the model\n",
        "model.fit(X_train,y_train,epochs=3)"
      ],
      "execution_count": 15,
      "outputs": [
        {
          "output_type": "stream",
          "text": [
            "Epoch 1/3\n",
            "60000/60000 [==============================] - 175s 3ms/step - loss: 0.1040 - accuracy: 0.9690\n",
            "Epoch 2/3\n",
            "60000/60000 [==============================] - 170s 3ms/step - loss: 0.0745 - accuracy: 0.9773\n",
            "Epoch 3/3\n",
            "60000/60000 [==============================] - 170s 3ms/step - loss: 0.0593 - accuracy: 0.9814\n"
          ],
          "name": "stdout"
        },
        {
          "output_type": "execute_result",
          "data": {
            "text/plain": [
              "<keras.callbacks.callbacks.History at 0x7fdbc06c3978>"
            ]
          },
          "metadata": {
            "tags": []
          },
          "execution_count": 15
        }
      ]
    },
    {
      "cell_type": "code",
      "metadata": {
        "id": "KHYUNUhQRo-n",
        "colab_type": "code",
        "colab": {
          "base_uri": "https://localhost:8080/",
          "height": 55
        },
        "outputId": "f80b0479-3c71-416f-a093-3190b6286b3a"
      },
      "source": [
        "#testify the validity\n",
        "\n",
        "result = model.evaluate(X_test,y_test)\n",
        "print('Accuracy : {} %'.format(round(result[1]*100,1)))"
      ],
      "execution_count": 27,
      "outputs": [
        {
          "output_type": "stream",
          "text": [
            "10000/10000 [==============================] - 6s 596us/step\n",
            "Accuracy : 99.0 %\n"
          ],
          "name": "stdout"
        }
      ]
    }
  ]
}